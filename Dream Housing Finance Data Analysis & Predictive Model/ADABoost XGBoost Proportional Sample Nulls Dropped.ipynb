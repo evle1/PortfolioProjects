{
 "cells": [
  {
   "cell_type": "markdown",
   "metadata": {},
   "source": [
    "## Proportional Sampling - Nulls Dropped"
   ]
  },
  {
   "cell_type": "code",
   "execution_count": 17,
   "metadata": {},
   "outputs": [],
   "source": [
    "import pandas as pd \n",
    "import numpy as np                     \n",
    "import seaborn as sns                  \n",
    "import matplotlib.pyplot as plt\n",
    "%matplotlib inline"
   ]
  },
  {
   "cell_type": "code",
   "execution_count": 18,
   "metadata": {},
   "outputs": [],
   "source": [
    "train_original = pd.read_csv(r\"C:\\Users\\Ethan\\Downloads\\loan_sanction_train.csv\")\n",
    "train = train_original.copy()\n",
    "train.head()\n",
    "\n",
    "test_original = pd.read_csv(r\"C:\\Users\\Ethan\\Downloads\\loan_sanction_test.csv\")\n",
    "test = test_original.copy()"
   ]
  },
  {
   "cell_type": "code",
   "execution_count": 19,
   "metadata": {},
   "outputs": [],
   "source": [
    "#Drop Loan_ID:\n",
    "train = train.drop('Loan_ID', axis = 1)\n",
    "test = test.drop('Loan_ID', axis = 1)\n",
    "\n",
    "#Encode Gender M/F into 1/0:\n",
    "train['Gender'].replace('Male',1,inplace=True)\n",
    "train['Gender'].replace('Female',0,inplace=True)\n",
    "test['Gender'].replace('Male',1,inplace=True)\n",
    "test['Gender'].replace('Female',0,inplace=True)\n",
    "\n",
    "#Encode Married Y/N into 1/0:\n",
    "train['Married'].replace('Yes',1,inplace=True)\n",
    "train['Married'].replace('No',0,inplace=True)\n",
    "test['Married'].replace('Yes',1,inplace=True)\n",
    "test['Married'].replace('No',0,inplace=True)\n",
    "\n",
    "#Encode Dependents into numerical data:\n",
    "train['Dependents'].replace('0',0,inplace=True)\n",
    "test['Dependents'].replace('0',0,inplace=True)\n",
    "train['Dependents'].replace('1',1,inplace=True)\n",
    "test['Dependents'].replace('1',1,inplace=True)\n",
    "train['Dependents'].replace('2',2,inplace=True)\n",
    "test['Dependents'].replace('2',2,inplace=True)\n",
    "train['Dependents'].replace('3+',3,inplace=True)\n",
    "test['Dependents'].replace('3+',3,inplace=True)\n",
    "\n",
    "#Encode Education Graduate/Not Graduate into 1/0\n",
    "train['Education'].replace('Graduate',1,inplace = True)\n",
    "train['Education'].replace('Not Graduate',0,inplace = True)\n",
    "test['Education'].replace('Graduate',1,inplace = True)\n",
    "test['Education'].replace('Not Graduate',0,inplace = True)\n",
    "\n",
    "#Encode Self-Employed Y/N into 1/0:\n",
    "train['Self_Employed'].replace('Yes',1,inplace = True)\n",
    "train['Self_Employed'].replace('No',0,inplace = True)\n",
    "test['Self_Employed'].replace('Yes',1,inplace = True)\n",
    "test['Self_Employed'].replace('No',0,inplace = True)\n",
    "\n",
    "#Encode Property_Area values Rural, Semiurban, Urban into 0/1/2:\n",
    "train['Property_Area'].replace('Rural',0,inplace = True)\n",
    "train['Property_Area'].replace('Semiurban',1,inplace = True)\n",
    "train['Property_Area'].replace('Urban',2,inplace = True)\n",
    "test['Property_Area'].replace('Rural',0,inplace = True)\n",
    "test['Property_Area'].replace('Semiurban',1,inplace = True)\n",
    "test['Property_Area'].replace('Urban',2,inplace = True)\n",
    "\n",
    "train['Loan_Status'].replace('Y',1,inplace=True)\n",
    "train['Loan_Status'].replace('N',0,inplace=True)\n",
    "\n"
   ]
  },
  {
   "cell_type": "code",
   "execution_count": 20,
   "metadata": {},
   "outputs": [
    {
     "data": {
      "text/plain": [
       "Gender               0\n",
       "Married              0\n",
       "Dependents           0\n",
       "Education            0\n",
       "Self_Employed        0\n",
       "ApplicantIncome      0\n",
       "CoapplicantIncome    0\n",
       "LoanAmount           0\n",
       "Loan_Amount_Term     0\n",
       "Credit_History       0\n",
       "Property_Area        0\n",
       "Loan_Status          0\n",
       "dtype: int64"
      ]
     },
     "execution_count": 20,
     "metadata": {},
     "output_type": "execute_result"
    }
   ],
   "source": [
    "class_proportions = train['Loan_Status'].value_counts(normalize=True)\n",
    "desired_proportions = {1: 0.6, 0: 0.4}\n",
    "target_counts = {cls: int(desired_proportions[cls] * len(train)) for cls in desired_proportions}\n",
    "train5050 = pd.DataFrame()\n",
    "for cls, target_count in target_counts.items():\n",
    "    class_data = train[train['Loan_Status'] == cls]\n",
    "    sampled_data = class_data.sample(n=target_count, replace=True)  # Adjust replace parameter as needed\n",
    "    train5050 = pd.concat([train5050, sampled_data], axis=0)\n",
    "\n",
    "train5050_class_proportions = train5050['Loan_Status'].value_counts(normalize=True)\n",
    "train5050_class_proportions\n",
    "\n",
    "train5050 = train5050.dropna()\n",
    "train5050.isnull().sum()"
   ]
  },
  {
   "cell_type": "markdown",
   "metadata": {},
   "source": [
    "Handling Outliers"
   ]
  },
  {
   "cell_type": "code",
   "execution_count": 21,
   "metadata": {},
   "outputs": [],
   "source": [
    "import numpy as np\n",
    "train = train[train['CoapplicantIncome']<10000]\n",
    "\n",
    "for col in ['LoanAmount','ApplicantIncome']:\n",
    "    train[col] = train[col].apply(np.log1p)"
   ]
  },
  {
   "cell_type": "code",
   "execution_count": 22,
   "metadata": {},
   "outputs": [],
   "source": [
    "from sklearn.ensemble import AdaBoostClassifier\n",
    "from sklearn.tree import DecisionTreeClassifier\n",
    "from sklearn.ensemble import BaggingClassifier\n",
    "from sklearn.model_selection import cross_val_score\n",
    "from sklearn.model_selection import train_test_split\n",
    "from sklearn.metrics import accuracy_score, classification_report, confusion_matrix\n",
    "\n"
   ]
  },
  {
   "cell_type": "code",
   "execution_count": 23,
   "metadata": {},
   "outputs": [],
   "source": [
    "X = train5050.drop('Loan_Status', axis=1)\n",
    "y = train5050['Loan_Status']\n",
    "#Note: The test csv file actually doesn't have a Loan Status column, so it's worthless as far as making predictions go. Instead, let's split our trianing data.\n",
    "#X_test = test.drop('Loan_Status', axis = 1)\n",
    "#y_test = test['Loan_Status']\n",
    "from sklearn.model_selection import train_test_split\n",
    "X_train, X_test, y_train, y_test = train_test_split(X,y, test_size =0.34)"
   ]
  },
  {
   "cell_type": "code",
   "execution_count": 24,
   "metadata": {},
   "outputs": [
    {
     "name": "stdout",
     "output_type": "stream",
     "text": [
      "Accuracy: 0.79\n",
      "Cross-Validation Scores: [0.7755102  0.7755102  0.70833333 0.75       0.77083333 0.72916667\n",
      " 0.72916667 0.77083333 0.70833333 0.6875    ]\n",
      "Mean Accuracy: 0.7405187074829931\n",
      "\n",
      "Classification Report:\n",
      "              precision    recall  f1-score   support\n",
      "\n",
      "           0       0.82      0.62      0.70        65\n",
      "           1       0.78      0.91      0.84        99\n",
      "\n",
      "    accuracy                           0.79       164\n",
      "   macro avg       0.80      0.76      0.77       164\n",
      "weighted avg       0.80      0.79      0.79       164\n",
      "\n",
      "\n",
      "Confusion Matrix:\n",
      "[[40 25]\n",
      " [ 9 90]]\n"
     ]
    },
    {
     "data": {
      "image/png": "[encoded data removed]",
      "text/plain": [
       "<Figure size 640x480 with 2 Axes>"
      ]
     },
     "metadata": {},
     "output_type": "display_data"
    },
    {
     "name": "stdout",
     "output_type": "stream",
     "text": [
      "              Feature  Importance\n",
      "7          LoanAmount        0.36\n",
      "9      Credit_History        0.31\n",
      "1             Married        0.17\n",
      "5     ApplicantIncome        0.06\n",
      "8    Loan_Amount_Term        0.06\n",
      "2          Dependents        0.02\n",
      "10      Property_Area        0.02\n",
      "0              Gender        0.00\n",
      "3           Education        0.00\n",
      "4       Self_Employed        0.00\n",
      "6   CoapplicantIncome        0.00\n"
     ]
    }
   ],
   "source": [
    "base_classifier = DecisionTreeClassifier(max_depth=1)\n",
    "adaboost_model = AdaBoostClassifier(base_classifier, n_estimators=100,learning_rate = 0.05, random_state=42)\n",
    "bagging_adaboost_model = BaggingClassifier(base_estimator=adaboost_model, n_estimators=10, random_state=42)\n",
    "adaboost_model.fit(X_train, y_train)\n",
    "#bagging_adaboost_model.fit(X_train, y_train)\n",
    "y_pred = adaboost_model.predict(X_test)\n",
    "#y_pred = bagging_adaboost_model.predict(X_test)\n",
    "accuracy = accuracy_score(y_test, y_pred)\n",
    "print(f'Accuracy: {accuracy:.2f}')\n",
    "\n",
    "cv_scores = cross_val_score(adaboost_model, X, y, cv=10)\n",
    "\n",
    "# Display the cross-validation scores\n",
    "print(\"Cross-Validation Scores:\", cv_scores)\n",
    "print(\"Mean Accuracy:\", np.mean(cv_scores))\n",
    "\n",
    "# Additional evaluation metrics\n",
    "print('\\nClassification Report:')\n",
    "print(classification_report(y_test, y_pred))\n",
    "\n",
    "print('\\nConfusion Matrix:')\n",
    "print(confusion_matrix(y_test, y_pred))\n",
    "\n",
    "conf_matrix = confusion_matrix(y_test, y_pred)\n",
    "\n",
    "# Visualize the confusion matrix as a heatmap\n",
    "sns.heatmap(conf_matrix, annot=True, fmt='d', cmap='Blues', xticklabels=['Predicted Negative', 'Predicted Positive'], yticklabels=['Actual Negative', 'Actual Positive'])\n",
    "plt.title('Confusion Matrix')\n",
    "plt.xlabel('Predicted Loan Status')\n",
    "plt.ylabel('True Loan Status')\n",
    "plt.show()\n",
    "\n",
    "feature_importances = adaboost_model.feature_importances_\n",
    "\n",
    "feature_importance_df = pd.DataFrame({'Feature': X.columns, 'Importance': feature_importances})\n",
    "# Sort the DataFrame by importance in descending order\n",
    "feature_importance_df = feature_importance_df.sort_values(by='Importance', ascending=False)\n",
    "\n",
    "# Print or display the feature importances\n",
    "print(feature_importance_df)"
   ]
  },
  {
   "cell_type": "code",
   "execution_count": 25,
   "metadata": {},
   "outputs": [],
   "source": [
    "from xgboost import XGBClassifier"
   ]
  },
  {
   "cell_type": "code",
   "execution_count": 26,
   "metadata": {},
   "outputs": [
    {
     "name": "stdout",
     "output_type": "stream",
     "text": [
      "Accuracy: 0.76\n",
      "Cross-Validation Scores: [0.7755102  0.7755102  0.70833333 0.77083333 0.72916667 0.72916667\n",
      " 0.72916667 0.77083333 0.6875     0.6875    ]\n",
      "Mean Accuracy: 0.7363520408163265\n",
      "\n",
      "Classification Report:\n",
      "              precision    recall  f1-score   support\n",
      "\n",
      "           0       0.86      0.46      0.60        65\n",
      "           1       0.73      0.95      0.82        99\n",
      "\n",
      "    accuracy                           0.76       164\n",
      "   macro avg       0.79      0.71      0.71       164\n",
      "weighted avg       0.78      0.76      0.74       164\n",
      "\n",
      "\n",
      "Confusion Matrix:\n",
      "[[30 35]\n",
      " [ 5 94]]\n",
      "              Feature  Importance\n",
      "9      Credit_History    0.652896\n",
      "1             Married    0.205198\n",
      "7          LoanAmount    0.090788\n",
      "5     ApplicantIncome    0.051117\n",
      "0              Gender    0.000000\n",
      "2          Dependents    0.000000\n",
      "3           Education    0.000000\n",
      "4       Self_Employed    0.000000\n",
      "6   CoapplicantIncome    0.000000\n",
      "8    Loan_Amount_Term    0.000000\n",
      "10      Property_Area    0.000000\n"
     ]
    },
    {
     "data": {
      "image/png": "[encoded data removed]",
      "text/plain": [
       "<Figure size 640x480 with 2 Axes>"
      ]
     },
     "metadata": {},
     "output_type": "display_data"
    }
   ],
   "source": [
    "xgb_model = XGBClassifier(n_estimators=100, max_depth=2, learning_rate=0.01, random_state=42)\n",
    "xgb_model.fit(X_train, y_train)\n",
    "y_pred = xgb_model.predict(X_test)\n",
    "\n",
    "accuracy = accuracy_score(y_test, y_pred)\n",
    "print(f'Accuracy: {accuracy:.2f}')\n",
    "\n",
    "cv_scores = cross_val_score(xgb_model, X, y, cv=10)\n",
    "\n",
    "# Display the cross-validation scores\n",
    "print(\"Cross-Validation Scores:\", cv_scores)\n",
    "print(\"Mean Accuracy:\", np.mean(cv_scores))\n",
    "\n",
    "# Additional evaluation metrics\n",
    "print('\\nClassification Report:')\n",
    "print(classification_report(y_test, y_pred))\n",
    "\n",
    "print('\\nConfusion Matrix:')\n",
    "print(confusion_matrix(y_test, y_pred))\n",
    "\n",
    "feature_importances = xgb_model.feature_importances_\n",
    "\n",
    "feature_importance_df = pd.DataFrame({'Feature': X.columns, 'Importance': feature_importances})\n",
    "\n",
    "# Sort the DataFrame by importance in descending order\n",
    "feature_importance_df = feature_importance_df.sort_values(by='Importance', ascending=False)\n",
    "\n",
    "# Print or display the feature importances\n",
    "print(feature_importance_df)\n",
    "\n",
    "conf_matrix = confusion_matrix(y_test, y_pred)\n",
    "\n",
    "# Visualize the confusion matrix as a heatmap\n",
    "sns.heatmap(conf_matrix, annot=True, fmt='d', cmap='Blues', xticklabels=['Predicted Negative', 'Predicted Positive'], yticklabels=['Actual Negative', 'Actual Positive'])\n",
    "plt.title('Confusion Matrix')\n",
    "plt.xlabel('Predicted Loan Status')\n",
    "plt.ylabel('True Loan Status')\n",
    "plt.show()"
   ]
  }
 ],
 "metadata": {
  "kernelspec": {
   "display_name": "Python 3",
   "language": "python",
   "name": "python3"
  },
  "language_info": {
   "codemirror_mode": {
    "name": "ipython",
    "version": 3
   },
   "file_extension": ".py",
   "mimetype": "text/x-python",
   "name": "python",
   "nbconvert_exporter": "python",
   "pygments_lexer": "ipython3",
   "version": "3.11.4"
  }
 },
 "nbformat": 4,
 "nbformat_minor": 2
}
