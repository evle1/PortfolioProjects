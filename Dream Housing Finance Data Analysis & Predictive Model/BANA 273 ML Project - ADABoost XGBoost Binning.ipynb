{
 "cells": [
  {
   "cell_type": "code",
   "execution_count": 1,
   "metadata": {},
   "outputs": [],
   "source": [
    "import pandas as pd \n",
    "import numpy as np                     \n",
    "import seaborn as sns                  \n",
    "import matplotlib.pyplot as plt\n",
    "%matplotlib inline"
   ]
  },
  {
   "cell_type": "code",
   "execution_count": 2,
   "metadata": {},
   "outputs": [],
   "source": [
    "train_original = pd.read_csv(r\"C:\\Users\\Ethan\\Downloads\\loan_sanction_train.csv\")\n",
    "train = train_original.copy()\n",
    "train.head()\n",
    "\n",
    "test_original = pd.read_csv(r\"C:\\Users\\Ethan\\Downloads\\loan_sanction_test.csv\")\n",
    "test = test_original.copy()"
   ]
  },
  {
   "cell_type": "code",
   "execution_count": 3,
   "metadata": {},
   "outputs": [],
   "source": [
    "train['Loan_Status'].replace('Y',1,inplace=True)\n",
    "train['Loan_Status'].replace('N',0,inplace=True)"
   ]
  },
  {
   "cell_type": "code",
   "execution_count": 4,
   "metadata": {},
   "outputs": [
    {
     "name": "stdout",
     "output_type": "stream",
     "text": [
      "Loan_ID              0\n",
      "Gender               0\n",
      "Married              0\n",
      "Dependents           0\n",
      "Education            0\n",
      "Self_Employed        0\n",
      "ApplicantIncome      0\n",
      "CoapplicantIncome    0\n",
      "LoanAmount           0\n",
      "Loan_Amount_Term     0\n",
      "Credit_History       0\n",
      "Property_Area        0\n",
      "Loan_Status          0\n",
      "dtype: int64\n"
     ]
    }
   ],
   "source": [
    "train = train.dropna()\n",
    "nulls = train.isnull().sum()\n",
    "print(nulls)"
   ]
  },
  {
   "cell_type": "code",
   "execution_count": 5,
   "metadata": {},
   "outputs": [],
   "source": [
    "#Drop Loan_ID:\n",
    "train = train.drop('Loan_ID', axis = 1)\n",
    "test = test.drop('Loan_ID', axis = 1)\n",
    "\n",
    "#Encode Gender M/F into 1/0:\n",
    "train['Gender'].replace('Male',1,inplace=True)\n",
    "train['Gender'].replace('Female',0,inplace=True)\n",
    "test['Gender'].replace('Male',1,inplace=True)\n",
    "test['Gender'].replace('Female',0,inplace=True)\n",
    "\n",
    "#Encode Married Y/N into 1/0:\n",
    "train['Married'].replace('Yes',1,inplace=True)\n",
    "train['Married'].replace('No',0,inplace=True)\n",
    "test['Married'].replace('Yes',1,inplace=True)\n",
    "test['Married'].replace('No',0,inplace=True)\n",
    "\n",
    "#Encode Dependents into numerical data:\n",
    "train['Dependents'].replace('0',0,inplace=True)\n",
    "test['Dependents'].replace('0',0,inplace=True)\n",
    "train['Dependents'].replace('1',1,inplace=True)\n",
    "test['Dependents'].replace('1',1,inplace=True)\n",
    "train['Dependents'].replace('2',2,inplace=True)\n",
    "test['Dependents'].replace('2',2,inplace=True)\n",
    "train['Dependents'].replace('3+',3,inplace=True)\n",
    "test['Dependents'].replace('3+',3,inplace=True)\n",
    "\n",
    "#Encode Education Graduate/Not Graduate into 1/0\n",
    "train['Education'].replace('Graduate',1,inplace = True)\n",
    "train['Education'].replace('Not Graduate',0,inplace = True)\n",
    "test['Education'].replace('Graduate',1,inplace = True)\n",
    "test['Education'].replace('Not Graduate',0,inplace = True)\n",
    "\n",
    "#Encode Self-Employed Y/N into 1/0:\n",
    "train['Self_Employed'].replace('Yes',1,inplace = True)\n",
    "train['Self_Employed'].replace('No',0,inplace = True)\n",
    "test['Self_Employed'].replace('Yes',1,inplace = True)\n",
    "test['Self_Employed'].replace('No',0,inplace = True)\n",
    "\n",
    "#Encode Property_Area values Rural, Semiurban, Urban into 0/1/2:\n",
    "train['Property_Area'].replace('Rural',0,inplace = True)\n",
    "train['Property_Area'].replace('Semiurban',1,inplace = True)\n",
    "train['Property_Area'].replace('Urban',2,inplace = True)\n",
    "test['Property_Area'].replace('Rural',0,inplace = True)\n",
    "test['Property_Area'].replace('Semiurban',1,inplace = True)\n",
    "test['Property_Area'].replace('Urban',2,inplace = True)"
   ]
  },
  {
   "cell_type": "code",
   "execution_count": 6,
   "metadata": {},
   "outputs": [],
   "source": [
    "from sklearn.ensemble import AdaBoostClassifier\n",
    "from sklearn.tree import DecisionTreeClassifier\n",
    "from sklearn.ensemble import BaggingClassifier\n",
    "from sklearn.model_selection import cross_val_score\n",
    "from sklearn.model_selection import train_test_split\n",
    "from sklearn.metrics import accuracy_score, classification_report, confusion_matrix\n",
    "\n"
   ]
  },
  {
   "cell_type": "markdown",
   "metadata": {},
   "source": [
    "Binning"
   ]
  },
  {
   "cell_type": "code",
   "execution_count": 7,
   "metadata": {},
   "outputs": [],
   "source": [
    "#X = train.drop('Loan_Status', axis=1)\n",
    "train2 = train.drop('Loan_Status', axis = 1)\n",
    "y = train['Loan_Status']\n",
    "bins=[150, 2877.5, 3812.5, 5403.459, 5795.00,81000]\n",
    "X_original = train2.drop(columns=['ApplicantIncome'])  # Assuming 'Values' is the column you're binning\n",
    "X_binned = pd.cut(train2['ApplicantIncome'], bins=bins, labels=False)  # Binning 'Values' column\n",
    "X = pd.concat([X_original,X_binned], axis = 1)\n",
    "X['ApplicantIncome'].fillna(X['ApplicantIncome'].median(),inplace=True)\n",
    "#Note: The test csv file actually doesn't have a Loan Status column, so it's worthless as far as making predictions go. Instead, let's split our trianing data.\n",
    "#X_test = test.drop('Loan_Status', axis = 1)\n",
    "#y_test = test['Loan_Status']\n",
    "from sklearn.model_selection import train_test_split\n",
    "X_train, X_test, y_train, y_test = train_test_split(X,y, test_size =0.34)"
   ]
  },
  {
   "cell_type": "code",
   "execution_count": 8,
   "metadata": {},
   "outputs": [
    {
     "name": "stdout",
     "output_type": "stream",
     "text": [
      "Accuracy: 0.78\n",
      "Cross-Validation Scores: [0.79166667 0.8125     0.77083333 0.79166667 0.77083333 0.77083333\n",
      " 0.83333333 0.85416667 0.8125     0.85416667]\n",
      "Mean Accuracy: 0.80625\n",
      "\n",
      "Classification Report:\n",
      "              precision    recall  f1-score   support\n",
      "\n",
      "           0       0.91      0.38      0.54        55\n",
      "           1       0.76      0.98      0.86       109\n",
      "\n",
      "    accuracy                           0.78       164\n",
      "   macro avg       0.84      0.68      0.70       164\n",
      "weighted avg       0.81      0.78      0.75       164\n",
      "\n",
      "\n",
      "Confusion Matrix:\n",
      "[[ 21  34]\n",
      " [  2 107]]\n"
     ]
    },
    {
     "data": {
      "image/png": "[encoded data removed]",
      "text/plain": [
       "<Figure size 640x480 with 2 Axes>"
      ]
     },
     "metadata": {},
     "output_type": "display_data"
    },
    {
     "name": "stdout",
     "output_type": "stream",
     "text": [
      "              Feature  Importance\n",
      "8      Credit_History        0.39\n",
      "6          LoanAmount        0.24\n",
      "9       Property_Area        0.16\n",
      "7    Loan_Amount_Term        0.14\n",
      "5   CoapplicantIncome        0.07\n",
      "0              Gender        0.00\n",
      "1             Married        0.00\n",
      "2          Dependents        0.00\n",
      "3           Education        0.00\n",
      "4       Self_Employed        0.00\n",
      "10    ApplicantIncome        0.00\n"
     ]
    }
   ],
   "source": [
    "base_classifier = DecisionTreeClassifier(max_depth=1)\n",
    "adaboost_model = AdaBoostClassifier(base_classifier, n_estimators=100,learning_rate = 0.05, random_state=42)\n",
    "bagging_adaboost_model = BaggingClassifier(base_estimator=adaboost_model, n_estimators=10, random_state=42)\n",
    "adaboost_model.fit(X_train, y_train)\n",
    "#bagging_adaboost_model.fit(X_train, y_train)\n",
    "y_pred = adaboost_model.predict(X_test)\n",
    "#y_pred = bagging_adaboost_model.predict(X_test)\n",
    "accuracy = accuracy_score(y_test, y_pred)\n",
    "print(f'Accuracy: {accuracy:.2f}')\n",
    "\n",
    "cv_scores = cross_val_score(adaboost_model, X, y, cv=10)\n",
    "\n",
    "# Display the cross-validation scores\n",
    "print(\"Cross-Validation Scores:\", cv_scores)\n",
    "print(\"Mean Accuracy:\", np.mean(cv_scores))\n",
    "\n",
    "# Additional evaluation metrics\n",
    "print('\\nClassification Report:')\n",
    "print(classification_report(y_test, y_pred))\n",
    "\n",
    "print('\\nConfusion Matrix:')\n",
    "print(confusion_matrix(y_test, y_pred))\n",
    "\n",
    "conf_matrix = confusion_matrix(y_test, y_pred)\n",
    "\n",
    "# Visualize the confusion matrix as a heatmap\n",
    "sns.heatmap(conf_matrix, annot=True, fmt='d', cmap='Blues', xticklabels=['Predicted Negative', 'Predicted Positive'], yticklabels=['Actual Negative', 'Actual Positive'])\n",
    "plt.title('Confusion Matrix')\n",
    "plt.xlabel('Predicted Loan Status')\n",
    "plt.ylabel('True Loan Status')\n",
    "plt.show()\n",
    "\n",
    "feature_importances = adaboost_model.feature_importances_\n",
    "\n",
    "feature_importance_df = pd.DataFrame({'Feature': X.columns, 'Importance': feature_importances})\n",
    "# Sort the DataFrame by importance in descending order\n",
    "feature_importance_df = feature_importance_df.sort_values(by='Importance', ascending=False)\n",
    "\n",
    "# Print or display the feature importances\n",
    "print(feature_importance_df)"
   ]
  },
  {
   "cell_type": "code",
   "execution_count": 9,
   "metadata": {},
   "outputs": [],
   "source": [
    "from xgboost import XGBClassifier"
   ]
  },
  {
   "cell_type": "code",
   "execution_count": 10,
   "metadata": {},
   "outputs": [
    {
     "name": "stdout",
     "output_type": "stream",
     "text": [
      "Accuracy: 0.77\n",
      "Cross-Validation Scores: [0.79166667 0.8125     0.77083333 0.79166667 0.77083333 0.77083333\n",
      " 0.85416667 0.85416667 0.8125     0.85416667]\n",
      "Mean Accuracy: 0.8083333333333332\n",
      "\n",
      "Classification Report:\n",
      "              precision    recall  f1-score   support\n",
      "\n",
      "           0       0.91      0.36      0.52        55\n",
      "           1       0.75      0.98      0.85       109\n",
      "\n",
      "    accuracy                           0.77       164\n",
      "   macro avg       0.83      0.67      0.69       164\n",
      "weighted avg       0.81      0.77      0.74       164\n",
      "\n",
      "\n",
      "Confusion Matrix:\n",
      "[[ 20  35]\n",
      " [  2 107]]\n",
      "              Feature  Importance\n",
      "8      Credit_History    0.826727\n",
      "9       Property_Area    0.080725\n",
      "7    Loan_Amount_Term    0.071016\n",
      "6          LoanAmount    0.021531\n",
      "0              Gender    0.000000\n",
      "1             Married    0.000000\n",
      "2          Dependents    0.000000\n",
      "3           Education    0.000000\n",
      "4       Self_Employed    0.000000\n",
      "5   CoapplicantIncome    0.000000\n",
      "10    ApplicantIncome    0.000000\n"
     ]
    },
    {
     "data": {
      "image/png": "[encoded data removed]",
      "text/plain": [
       "<Figure size 640x480 with 2 Axes>"
      ]
     },
     "metadata": {},
     "output_type": "display_data"
    }
   ],
   "source": [
    "xgb_model = XGBClassifier(n_estimators=100, max_depth=2, learning_rate=0.01, random_state=42)\n",
    "xgb_model.fit(X_train, y_train)\n",
    "y_pred = xgb_model.predict(X_test)\n",
    "\n",
    "accuracy = accuracy_score(y_test, y_pred)\n",
    "print(f'Accuracy: {accuracy:.2f}')\n",
    "\n",
    "cv_scores = cross_val_score(xgb_model, X, y, cv=10)\n",
    "\n",
    "# Display the cross-validation scores\n",
    "print(\"Cross-Validation Scores:\", cv_scores)\n",
    "print(\"Mean Accuracy:\", np.mean(cv_scores))\n",
    "\n",
    "# Additional evaluation metrics\n",
    "print('\\nClassification Report:')\n",
    "print(classification_report(y_test, y_pred))\n",
    "\n",
    "print('\\nConfusion Matrix:')\n",
    "print(confusion_matrix(y_test, y_pred))\n",
    "\n",
    "feature_importances = xgb_model.feature_importances_\n",
    "\n",
    "feature_importance_df = pd.DataFrame({'Feature': X.columns, 'Importance': feature_importances})\n",
    "\n",
    "# Sort the DataFrame by importance in descending order\n",
    "feature_importance_df = feature_importance_df.sort_values(by='Importance', ascending=False)\n",
    "\n",
    "# Print or display the feature importances\n",
    "print(feature_importance_df)\n",
    "\n",
    "conf_matrix = confusion_matrix(y_test, y_pred)\n",
    "\n",
    "# Visualize the confusion matrix as a heatmap\n",
    "sns.heatmap(conf_matrix, annot=True, fmt='d', cmap='Blues', xticklabels=['Predicted Negative', 'Predicted Positive'], yticklabels=['Actual Negative', 'Actual Positive'])\n",
    "plt.title('Confusion Matrix')\n",
    "plt.xlabel('Predicted Loan Status')\n",
    "plt.ylabel('True Loan Status')\n",
    "plt.show()"
   ]
  }
 ],
 "metadata": {
  "kernelspec": {
   "display_name": "Python 3",
   "language": "python",
   "name": "python3"
  },
  "language_info": {
   "codemirror_mode": {
    "name": "ipython",
    "version": 3
   },
   "file_extension": ".py",
   "mimetype": "text/x-python",
   "name": "python",
   "nbconvert_exporter": "python",
   "pygments_lexer": "ipython3",
   "version": "3.11.4"
  }
 },
 "nbformat": 4,
 "nbformat_minor": 2
}
